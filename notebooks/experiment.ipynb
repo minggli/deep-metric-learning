{
 "cells": [
  {
   "cell_type": "code",
   "execution_count": 1,
   "id": "56152262",
   "metadata": {},
   "outputs": [],
   "source": [
    "import sys\n",
    "from pathlib import Path"
   ]
  },
  {
   "cell_type": "code",
   "execution_count": 2,
   "id": "a9cea7ea",
   "metadata": {},
   "outputs": [],
   "source": [
    "sys.path.append(str(Path(\".\").absolute().parent))"
   ]
  },
  {
   "cell_type": "code",
   "execution_count": 3,
   "id": "cfb7e826",
   "metadata": {},
   "outputs": [],
   "source": [
    "import torch\n",
    "import yaml\n",
    "from torch import nn\n",
    "from torch.utils.data import DataLoader\n",
    "\n",
    "from app.datasets import ExperimentDatasets, load_dataset\n",
    "from app.ml_ops import test, train\n",
    "from app.models import SiameseNetwork, resnet18\n",
    "from app.objects import ImageTransform\n",
    "from app.utils import get_project_root"
   ]
  },
  {
   "cell_type": "code",
   "execution_count": 9,
   "id": "be8b0cf9",
   "metadata": {},
   "outputs": [],
   "source": [
    "PROJ_ROOT = get_project_root()\n",
    "\n",
    "with open(PROJ_ROOT / \"app/model_cfg.yaml\", encoding=\"utf-8\") as f:\n",
    "    model_config = yaml.safe_load(f)"
   ]
  },
  {
   "cell_type": "code",
   "execution_count": 10,
   "id": "96405709",
   "metadata": {},
   "outputs": [
    {
     "name": "stderr",
     "output_type": "stream",
     "text": [
      "/Users/mli/Library/Caches/pypoetry/virtualenvs/deep-metric-learning-qAxZPd2D-py3.9/lib/python3.9/site-packages/torch/nn/modules/lazy.py:178: UserWarning: Lazy modules are a new feature under heavy development so changes to the API or functionality can happen at any moment.\n",
      "  warnings.warn('Lazy modules are a new feature under heavy development '\n"
     ]
    },
    {
     "name": "stdout",
     "output_type": "stream",
     "text": [
      "loss: 2.354808  [    0/60000]\n"
     ]
    },
    {
     "name": "stderr",
     "output_type": "stream",
     "text": [
      "\n",
      "KeyboardInterrupt\n",
      "\n"
     ]
    }
   ],
   "source": [
    "ds_train, ds_test = load_dataset(ExperimentDatasets.FASHION_MNIST, transformer=ImageTransform)\n",
    "train_batch_iter, test_batch_iter = DataLoader(\n",
    "    ds_train, batch_size=model_config[\"batch_size\"], shuffle=True, num_workers=4\n",
    "), DataLoader(ds_test, batch_size=model_config[\"batch_size\"], shuffle=True, num_workers=4)\n",
    "\n",
    "n_class = len(ds_train.classes)\n",
    "model = SiameseNetwork(resnet18, n_class=n_class)\n",
    "optimizer = torch.optim.Adam(model.parameters(), lr=1e-3)\n",
    "loss = nn.CrossEntropyLoss()\n",
    "\n",
    "for epoch in range(10):\n",
    "    train(train_batch_iter, model, loss, optimizer)\n",
    "    test(test_batch_iter, model, loss)"
   ]
  },
  {
   "cell_type": "code",
   "execution_count": null,
   "id": "a55d8d91",
   "metadata": {},
   "outputs": [],
   "source": []
  }
 ],
 "metadata": {
  "kernelspec": {
   "display_name": "Python 3.9.7 64-bit ('deep-metric-learning-qAxZPd2D-py3.9': poetry)",
   "language": "python",
   "name": "python397jvsc74a57bd089aa4e2537292b475f2b58eb3552b2be679fbc5a0a8de49b793512a1c92a12ab"
  },
  "language_info": {
   "codemirror_mode": {
    "name": "ipython",
    "version": 3
   },
   "file_extension": ".py",
   "mimetype": "text/x-python",
   "name": "python",
   "nbconvert_exporter": "python",
   "pygments_lexer": "ipython3",
   "version": "3.9.7"
  }
 },
 "nbformat": 4,
 "nbformat_minor": 5
}
